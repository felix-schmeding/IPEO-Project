{
 "cells": [
  {
   "cell_type": "markdown",
   "metadata": {},
   "source": [
    "# Imports"
   ]
  },
  {
   "cell_type": "code",
   "execution_count": null,
   "metadata": {},
   "outputs": [],
   "source": [
    "import json\n",
    "import numpy as np\n",
    "import torch\n",
    "from data.CanopyDataset import CanopyDataset\n",
    "from model.SEResNet import SEResNet\n",
    "import torch\n",
    "import numpy as np\n",
    "from torch.utils.data import DataLoader\n",
    "from sklearn.metrics import mean_absolute_error, mean_squared_error, r2_score"
   ]
  },
  {
   "cell_type": "markdown",
   "metadata": {},
   "source": [
    "# Load Trained Model"
   ]
  },
  {
   "cell_type": "code",
   "execution_count": 12,
   "metadata": {},
   "outputs": [
    {
     "data": {
      "text/plain": [
       "SEResNet(\n",
       "  (initial_conv): Conv2d(12, 12, kernel_size=(3, 3), stride=(1, 1), padding=(1, 1), padding_mode=reflect)\n",
       "  (encoder): Sequential(\n",
       "    (0): ResidualBlock(\n",
       "      (conv1): Conv2d(12, 64, kernel_size=(3, 3), stride=(1, 1), padding=(1, 1), padding_mode=reflect)\n",
       "      (norm1): GroupNorm(4, 64, eps=1e-05, affine=True)\n",
       "      (conv2): Conv2d(64, 64, kernel_size=(3, 3), stride=(1, 1), padding=(1, 1), padding_mode=reflect)\n",
       "      (norm2): GroupNorm(4, 64, eps=1e-05, affine=True)\n",
       "      (se): SEBlock(\n",
       "        (se): Sequential(\n",
       "          (0): AdaptiveAvgPool2d(output_size=1)\n",
       "          (1): Conv2d(64, 8, kernel_size=(1, 1), stride=(1, 1))\n",
       "          (2): SiLU()\n",
       "          (3): Conv2d(8, 64, kernel_size=(1, 1), stride=(1, 1))\n",
       "          (4): Sigmoid()\n",
       "        )\n",
       "      )\n",
       "      (activation): SiLU()\n",
       "      (residual_conv): Conv2d(12, 64, kernel_size=(1, 1), stride=(1, 1))\n",
       "    )\n",
       "    (1): ResidualBlock(\n",
       "      (conv1): Conv2d(64, 128, kernel_size=(3, 3), stride=(1, 1), padding=(1, 1), padding_mode=reflect)\n",
       "      (norm1): GroupNorm(4, 128, eps=1e-05, affine=True)\n",
       "      (conv2): Conv2d(128, 128, kernel_size=(3, 3), stride=(1, 1), padding=(1, 1), padding_mode=reflect)\n",
       "      (norm2): GroupNorm(4, 128, eps=1e-05, affine=True)\n",
       "      (se): SEBlock(\n",
       "        (se): Sequential(\n",
       "          (0): AdaptiveAvgPool2d(output_size=1)\n",
       "          (1): Conv2d(128, 16, kernel_size=(1, 1), stride=(1, 1))\n",
       "          (2): SiLU()\n",
       "          (3): Conv2d(16, 128, kernel_size=(1, 1), stride=(1, 1))\n",
       "          (4): Sigmoid()\n",
       "        )\n",
       "      )\n",
       "      (activation): SiLU()\n",
       "      (residual_conv): Conv2d(64, 128, kernel_size=(1, 1), stride=(1, 1))\n",
       "    )\n",
       "    (2): AdaptiveAvgPool2d(output_size=1)\n",
       "    (3): Conv2d(128, 64, kernel_size=(1, 1), stride=(1, 1))\n",
       "  )\n",
       "  (decoder): Sequential(\n",
       "    (0): Conv2d(76, 64, kernel_size=(3, 3), stride=(1, 1), padding=(1, 1), padding_mode=reflect)\n",
       "    (1): ResidualBlock(\n",
       "      (conv1): Conv2d(64, 64, kernel_size=(3, 3), stride=(1, 1), padding=(1, 1), padding_mode=reflect)\n",
       "      (norm1): GroupNorm(4, 64, eps=1e-05, affine=True)\n",
       "      (conv2): Conv2d(64, 64, kernel_size=(3, 3), stride=(1, 1), padding=(1, 1), padding_mode=reflect)\n",
       "      (norm2): GroupNorm(4, 64, eps=1e-05, affine=True)\n",
       "      (se): SEBlock(\n",
       "        (se): Sequential(\n",
       "          (0): AdaptiveAvgPool2d(output_size=1)\n",
       "          (1): Conv2d(64, 8, kernel_size=(1, 1), stride=(1, 1))\n",
       "          (2): SiLU()\n",
       "          (3): Conv2d(8, 64, kernel_size=(1, 1), stride=(1, 1))\n",
       "          (4): Sigmoid()\n",
       "        )\n",
       "      )\n",
       "      (activation): SiLU()\n",
       "      (residual_conv): Identity()\n",
       "    )\n",
       "    (2): Conv2d(64, 32, kernel_size=(3, 3), stride=(1, 1), padding=(1, 1), padding_mode=reflect)\n",
       "    (3): ResidualBlock(\n",
       "      (conv1): Conv2d(32, 32, kernel_size=(3, 3), stride=(1, 1), padding=(1, 1), padding_mode=reflect)\n",
       "      (norm1): GroupNorm(4, 32, eps=1e-05, affine=True)\n",
       "      (conv2): Conv2d(32, 32, kernel_size=(3, 3), stride=(1, 1), padding=(1, 1), padding_mode=reflect)\n",
       "      (norm2): GroupNorm(4, 32, eps=1e-05, affine=True)\n",
       "      (se): SEBlock(\n",
       "        (se): Sequential(\n",
       "          (0): AdaptiveAvgPool2d(output_size=1)\n",
       "          (1): Conv2d(32, 4, kernel_size=(1, 1), stride=(1, 1))\n",
       "          (2): SiLU()\n",
       "          (3): Conv2d(4, 32, kernel_size=(1, 1), stride=(1, 1))\n",
       "          (4): Sigmoid()\n",
       "        )\n",
       "      )\n",
       "      (activation): SiLU()\n",
       "      (residual_conv): Identity()\n",
       "    )\n",
       "    (4): Conv2d(32, 1, kernel_size=(3, 3), stride=(1, 1), padding=(1, 1), padding_mode=reflect)\n",
       "  )\n",
       ")"
      ]
     },
     "execution_count": 12,
     "metadata": {},
     "output_type": "execute_result"
    }
   ],
   "source": [
    "# Load model\n",
    "device = torch.device(\"cuda\" if torch.cuda.is_available() else \"cpu\")\n",
    "model = SEResNet()\n",
    "model.load_state_dict(torch.load(\"../data/model/best_model.pth\", map_location=device))\n",
    "model.to(device)\n",
    "model.eval()"
   ]
  },
  {
   "cell_type": "code",
   "execution_count": 13,
   "metadata": {},
   "outputs": [],
   "source": [
    "# Load trained statistics\n",
    "with open('../data/model/train_stats.dat', 'r') as f:\n",
    "    stats = json.load(f)\n",
    "    stats['band_means'] = np.array(stats['band_means'])\n",
    "    stats['band_stds'] = np.array(stats['band_stds'])"
   ]
  },
  {
   "cell_type": "markdown",
   "metadata": {},
   "source": [
    "# Evaluate on the test set"
   ]
  },
  {
   "cell_type": "code",
   "execution_count": 18,
   "metadata": {},
   "outputs": [],
   "source": [
    "def evaluate_model(split, stats=stats):\n",
    "    dataset = CanopyDataset(split=split, stats_file=\"../data/model/train_stats.dat\")\n",
    "    loader = DataLoader(dataset, batch_size=32, shuffle=False, num_workers=4)\n",
    "\n",
    "    all_labels, all_preds, all_masks = [], [], []\n",
    "\n",
    "    with torch.no_grad():\n",
    "        for images, labels, mask in loader:\n",
    "            images = images.to(torch.float32).to(device)\n",
    "            labels = labels.to(torch.float32).to(device)\n",
    "            mask = mask.to(torch.float32).to(device)\n",
    "\n",
    "            outputs = model(images)\n",
    "\n",
    "            all_labels.append(labels.cpu().numpy() * stats['label_std'] + stats['label_mean'])\n",
    "            all_preds.append(outputs.cpu().numpy() * stats['label_std'] + stats['label_mean'])\n",
    "            all_masks.append(mask.cpu().numpy())\n",
    "\n",
    "    all_labels = np.concatenate(all_labels, axis=0)\n",
    "    all_preds = np.concatenate(all_preds, axis=0)\n",
    "    all_masks = np.concatenate(all_masks, axis=0)\n",
    "\n",
    "    valid_pixels = all_masks > 0\n",
    "    y_true = all_labels[valid_pixels]\n",
    "    y_pred = all_preds[valid_pixels]\n",
    "\n",
    "    mae = mean_absolute_error(y_true, y_pred)\n",
    "    rmse = np.sqrt(mean_squared_error(y_true, y_pred))\n",
    "    r2 = r2_score(y_true, y_pred)\n",
    "\n",
    "    print(f\"{split.capitalize()} MAE: {mae:.4f}\")\n",
    "    print(f\"{split.capitalize()} RMSE: {rmse:.4f}\")\n",
    "    print(f\"{split.capitalize()} R² Score: {r2:.4f}\")"
   ]
  },
  {
   "cell_type": "markdown",
   "metadata": {},
   "source": [
    "## Evaluate train split"
   ]
  },
  {
   "cell_type": "code",
   "execution_count": 19,
   "metadata": {},
   "outputs": [
    {
     "name": "stdout",
     "output_type": "stream",
     "text": [
      "Train MAE: 2.3826\n",
      "Train RMSE: 3.1999\n",
      "Train R² Score: 0.8403\n"
     ]
    }
   ],
   "source": [
    "evaluate_model(\"train\")"
   ]
  },
  {
   "cell_type": "markdown",
   "metadata": {},
   "source": [
    "## Evaluate validation split"
   ]
  },
  {
   "cell_type": "code",
   "execution_count": 20,
   "metadata": {},
   "outputs": [
    {
     "name": "stdout",
     "output_type": "stream",
     "text": [
      "Validation MAE: 3.3465\n",
      "Validation RMSE: 4.2889\n",
      "Validation R² Score: 0.7934\n"
     ]
    }
   ],
   "source": [
    "evaluate_model(\"validation\")"
   ]
  },
  {
   "cell_type": "markdown",
   "metadata": {},
   "source": [
    "## Evaluate test split"
   ]
  },
  {
   "cell_type": "code",
   "execution_count": 21,
   "metadata": {},
   "outputs": [
    {
     "name": "stdout",
     "output_type": "stream",
     "text": [
      "Test MAE: 3.2891\n",
      "Test RMSE: 4.2295\n",
      "Test R² Score: 0.8927\n"
     ]
    }
   ],
   "source": [
    "\n",
    "evaluate_model(\"test\")"
   ]
  }
 ],
 "metadata": {
  "kernelspec": {
   "display_name": "ipeo-canopy",
   "language": "python",
   "name": "python3"
  },
  "language_info": {
   "codemirror_mode": {
    "name": "ipython",
    "version": 3
   },
   "file_extension": ".py",
   "mimetype": "text/x-python",
   "name": "python",
   "nbconvert_exporter": "python",
   "pygments_lexer": "ipython3",
   "version": "3.11.11"
  }
 },
 "nbformat": 4,
 "nbformat_minor": 2
}
